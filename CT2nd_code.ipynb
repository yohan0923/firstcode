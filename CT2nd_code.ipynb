{
  "nbformat": 4,
  "nbformat_minor": 0,
  "metadata": {
    "colab": {
      "provenance": [],
      "authorship_tag": "ABX9TyMl1pwtgOvAN4Wc9w45CLJP",
      "include_colab_link": true
    },
    "kernelspec": {
      "name": "python3",
      "display_name": "Python 3"
    },
    "language_info": {
      "name": "python"
    }
  },
  "cells": [
    {
      "cell_type": "markdown",
      "metadata": {
        "id": "view-in-github",
        "colab_type": "text"
      },
      "source": [
        "<a href=\"https://colab.research.google.com/github/yohan0923/firstcode/blob/main/CT2nd_code.ipynb\" target=\"_parent\"><img src=\"https://colab.research.google.com/assets/colab-badge.svg\" alt=\"Open In Colab\"/></a>"
      ]
    },
    {
      "cell_type": "markdown",
      "source": [
        "2번째 코딩\n",
        "- 사용자로부터 3개의 값을 받아서 합을 내고, 평균을 출력하는 코드"
      ],
      "metadata": {
        "id": "G9Lnnj0UKcFp"
      }
    },
    {
      "cell_type": "code",
      "execution_count": null,
      "metadata": {
        "colab": {
          "base_uri": "https://localhost:8080/"
        },
        "id": "o9alaV5qGT-T",
        "outputId": "51cf954c-a1ea-47b0-e71f-e100a39d3869"
      },
      "outputs": [
        {
          "output_type": "stream",
          "name": "stdout",
          "text": [
            "N1의 값을 입력하시오.:40\n",
            "N2의 값을 입력하시오.:50\n",
            "N3의 값을 입력하시오.:60\n",
            "50.0\n"
          ]
        }
      ],
      "source": [
        "# N1, N2, N3의 값을 사용자로부터 입력받습니다. 입력받은 값은 문자열이므로 int() 함수를 사용하여 정수로 변환합니다.\n",
        "n1 = int(input(\"N1의 값을 입력하시오.:\"))\n",
        "n2 = int(input(\"N2의 값을 입력하시오.:\"))\n",
        "n3 = int(input(\"N3의 값을 입력하시오.:\"))\n",
        "\n",
        "# 입력받은 세 정수의 합계를 계산합니다.\n",
        "total = n1 + n2 + n3\n",
        "\n",
        "# 합계를 3으로 나누어 평균을 계산합니다.\n",
        "average = total / 3\n",
        "\n",
        "# 계산된 평균을 출력합니다.\n",
        "print(average)"
      ]
    }
  ]
}